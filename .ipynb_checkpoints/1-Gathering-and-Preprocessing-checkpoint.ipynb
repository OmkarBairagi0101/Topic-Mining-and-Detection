{
 "cells": [
  {
   "cell_type": "code",
   "execution_count": 1,
   "id": "fb90c977",
   "metadata": {},
   "outputs": [],
   "source": [
    "# Web scraping, pickle imports\n",
    "import requests\n",
    "from bs4 import BeautifulSoup\n",
    "import pickle\n",
    "\n",
    "# # Scrapes transcript data from scrapsfromtheloft.com\n",
    "# def url_to_transcript(url):\n",
    "#     '''Returns transcript data specifically from scrapsfromtheloft.com.'''\n",
    "#     page = requests.get(url).text\n",
    "#     soup = BeautifulSoup(page, \"lxml\")\n",
    "#     text = [p.text for p in soup.find_all('p')]\n",
    "#     print(url)\n",
    "#     return text\n",
    "\n",
    "# # URLs of transcripts in scope\n",
    "# urls = [\"https://www.coursera.org/learn/classification-vector-spaces-in-nlp/lecture/gNXI3/vocabulary-feature-extraction\"]"
   ]
  },
  {
   "cell_type": "code",
   "execution_count": 2,
   "id": "abb36507",
   "metadata": {},
   "outputs": [],
   "source": [
    "# transcripts = [url_to_transcript(u) for u in urls]"
   ]
  },
  {
   "cell_type": "code",
   "execution_count": 13,
   "id": "c3ca50f0",
   "metadata": {},
   "outputs": [
    {
     "name": "stdout",
     "output_type": "stream",
     "text": [
      "[['Good morning', \" How are you?(Laughter)It's been great, hasn't it? I've been blown away by the whole thing\", \" In fact, I'm leaving\", '(Laughter)There have been three themes running through the conference which are relevant to what I want to talk about', \" One is the extraordinary evidence of human creativity in all of the presentations that we've had and in all of the people here\", ' Just the variety of it and the range of it', \" The second is that it's put us in a place where we have no idea what's going to happen, in terms of the future\", ' No idea how this may play out', 'I have an interest in education', ' Actually, what I find is everybody has an interest in education', \" Don't you? I find this very interesting\", \" If you're at a dinner party, and you say you work in education â€” Actually, you're not often at dinner parties, frankly\", \"(Laughter)If you work in education, you're not asked\", \"(Laughter)And you're never asked back, curiously\", \" That's strange to me\", ' But if you are, and you say to somebody, you know, they say, \"What do you do?\" and you say you work in education, you can see the blood run from their face', ' They\\'re like, \"Oh my God,\" you know, \"Why me?\"(Laughter)\"My one night out all week', '\"(Laughter)But if you ask about their education, they pin you to the wall', \" Because it's one of those things that goes deep with people, am I right? Like religion, and money and other things\", ' So I have a big interest in education, and I think we all do', \" We have a huge vested interest in it, partly because it's education that's meant to take us into this future that we can't grasp\", ' If you think of it, children starting school this year will be retiring in 2065', \" Nobody has a clue, despite all the expertise that's been on parade for the past four days, what the world will look like in five years' time\", \" And yet we're meant to be educating them for it\", ' So the unpredictability, I think, is extraordinary', \"And the third part of this is that we've all agreed, nonetheless, on the really extraordinary capacities that children have â€” their capacities for innovation\", \" I mean, Sirena last night was a marvel, wasn't she? Just seeing what she could do\", \" And she's exceptional, but I think she's not, so to speak, exceptional in the whole of childhood\", ' What you have there is a person of extraordinary dedication who found a talent', ' And my contention is, all kids have tremendous talents', ' And we squander them, pretty ruthlessly', 'So I want to talk about education and I want to talk about creativity', ' My contention is that creativity now is as important in education as literacy, and we should treat it with the same status', '(Applause) Thank you', '(Applause)That was it, by the way', ' Thank you very much', '(Laughter)So, 15 minutes left', '(Laughter)Well, I was born', '', '', ' no', '(Laughter)I heard a great story recently â€” I love telling it â€” of a little girl who was in a drawing lesson', ' She was six, and she was at the back, drawing, and the teacher said this girl hardly ever paid attention, and in this drawing lesson, she did', ' The teacher was fascinated', ' She went over to her, and she said, \"What are you drawing?\" And the girl said, \"I\\'m drawing a picture of God', '\" And the teacher said, \"But nobody knows what God looks like', '\" And the girl said, \"They will, in a minute', '\"(Laughter)When my son was four in England â€” Actually, he was four everywhere, to be honest', \"(Laughter)If we're being strict about it, wherever he went, he was four that year\", ' He was in the Nativity play', ' Do you remember the story?(Laughter)No, it was big, it was a big story', ' Mel Gibson did the sequel, you may have seen it', '(Laughter)\"Nativity II', '\" But James got the part of Joseph, which we were thrilled about', ' We considered this to be one of the lead parts', ' We had the place crammed full of agents in T-shirts: \"James Robinson IS Joseph!\" (Laughter) He didn\\'t have to speak, but you know the bit where the three kings come in? They come in bearing gifts, gold, frankincense and myrrh', ' This really happened', ' We were sitting there and I think they just went out of sequence, because we talked to the little boy afterward and we said, \"You OK with that?\" And he said, \"Yeah, why? Was that wrong?\" They just switched', ' The three boys came in, four-year-olds with tea towels on their heads, and they put these boxes down, and the first boy said, \"I bring you gold', '\" And the second boy said, \"I bring you myrrh', '\" And the third boy said, \"Frank sent this', '\"(Laughter)What these things have in common is that kids will take a chance', \" If they don't know, they'll have a go\", \" Am I right? They're not frightened of being wrong\", \" I don't mean to say that being wrong is the same thing as being creative\", \" What we do know is, if you're not prepared to be wrong, you'll never come up with anything original â€” if you're not prepared to be wrong\", ' And by the time they get to be adults, most kids have lost that capacity', ' They have become frightened of being wrong', ' And we run our companies like this', ' We stigmatize mistakes', \" And we're now running national education systems where mistakes are the worst thing you can make\", ' And the result is that we are educating people out of their creative capacities', 'Picasso once said this, he said that all children are born artists', ' The problem is to remain an artist as we grow up', \" I believe this passionately, that we don't grow into creativity, we grow out of it\", ' Or rather, we get educated out of it', ' So why is this?I lived in Stratford-on-Avon until about five years ago', ' In fact, we moved from Stratford to Los Angeles', ' So you can imagine what a seamless transition that was', \"(Laughter)Actually, we lived in a place called Snitterfield, just outside Stratford, which is where Shakespeare's father was born\", ' Are you struck by a new thought? I was', \" You don't think of Shakespeare having a father, do you? Do you? Because you don't think of Shakespeare being a child, do you? Shakespeare being seven? I never thought of it\", ' I mean, he was seven at some point', ' He was in somebody\\'s English class, wasn\\'t he?(Laughter)How annoying would that be?(Laughter)\"Must try harder', '\"(Laughter)Being sent to bed by his dad, you know, to Shakespeare, \"Go to bed, now! And put the pencil down', '\"(Laughter)\"And stop speaking like that', '\"(Laughter)\"It\\'s confusing everybody', '\"(Laughter)Anyway, we moved from Stratford to Los Angeles, and I just want to say a word about the transition', \" My son didn't want to come\", \" I've got two kids; he's 21 now, my daughter's 16\", \" He didn't want to come to Los Angeles\", ' He loved it, but he had a girlfriend in England', ' This was the love of his life, Sarah', \" He'd known her for a month\", \"(Laughter)Mind you, they'd had their fourth anniversary, because it's a long time when you're 16\", ' He was really upset on the plane, he said, \"I\\'ll never find another girl like Sarah', '\" And we were rather pleased about that, frankly â€”(Laughter)Because she was the main reason we were leaving the country', '(Laughter)But something strikes you when you move to America and travel around the world: Every education system on Earth has the same hierarchy of subjects', ' Every one', \" Doesn't matter where you go\", \" You'd think it would be otherwise, but it isn't\", ' At the top are mathematics and languages, then the humanities, and at the bottom are the arts', ' Everywhere on Earth', \" And in pretty much every system too, there's a hierarchy within the arts\", ' Art and music are normally given a higher status in schools than drama and dance', \" There isn't an education system on the planet that teaches dance everyday to children the way we teach them mathematics\", ' Why? Why not? I think this is rather important', ' I think math is very important, but so is dance', \" Children dance all the time if they're allowed to, we all do\", \" We all have bodies, don't we? Did I miss a meeting?(Laughter)Truthfully, what happens is, as children grow up, we start to educate them progressively from the waist up\", ' And then we focus on their heads', ' And slightly to one side', 'If you were to visit education, as an alien, and say \"What\\'s it for, public education?\" I think you\\'d have to conclude, if you look at the output, who really succeeds by this, who does everything that they should, who gets all the brownie points, who are the winners â€” I think you\\'d have to conclude the whole purpose of public education throughout the world is to produce university professors', \" Isn't it? They're the people who come out the top\", ' And I used to be one, so there', \"(Laughter)And I like university professors, but you know, we shouldn't hold them up as the high-water mark of all human achievement\", \" They're just a form of life, another form of life\", \" But they're rather curious, and I say this out of affection for them\", \" There's something curious about professors in my experience â€” not all of them, but typically, they live in their heads\", ' They live up there, and slightly to one side', \" They're disembodied, you know, in a kind of literal way\", ' They look upon their body as a form of transport for their heads', \"(Laughter)Don't they? It's a way of getting their head to meetings\", '(Laughter)If you want real evidence of out-of-body experiences, get yourself along to a residential conference of senior academics, and pop into the discotheque on the final night', '(Laughter)And there, you will see it', ' Grown men and women writhing uncontrollably, off the beat', '(Laughter)Waiting until it ends so they can go home and write a paper about it', '(Laughter)Our education system is predicated on the idea of academic ability', \" And there's a reason\", ' Around the world, there were no public systems of education, really, before the 19th century', ' They all came into being to meet the needs of industrialism', ' So the hierarchy is rooted on two ideas', 'Number one, that the most useful subjects for work are at the top', ' So you were probably steered benignly away from things at school when you were a kid, things you liked, on the grounds that you would never get a job doing that', \" Is that right? Don't do music, you're not going to be a musician; don't do art, you won't be an artist\", ' Benign advice â€” now, profoundly mistaken', ' The whole world is engulfed in a revolution', 'And the second is academic ability, which has really come to dominate our view of intelligence, because the universities designed the system in their image', ' If you think of it, the whole system of public education around the world is a protracted process of university entrance', \" And the consequence is that many highly-talented, brilliant, creative people think they're not, because the thing they were good at at school wasn't valued, or was actually stigmatized\", \" And I think we can't afford to go on that way\", 'In the next 30 years, according to UNESCO, more people worldwide will be graduating through education than since the beginning of history', \" More people, and it's the combination of all the things we've talked about â€” technology and its transformation effect on work, and demography and the huge explosion in population\", \"Suddenly, degrees aren't worth anything\", \" Isn't that true? When I was a student, if you had a degree, you had a job\", \" If you didn't have a job, it's because you didn't want one\", \" And I didn't want one, frankly\", ' (Laughter) But now kids with degrees are often heading home to carry on playing video games, because you need an MA where the previous job required a BA, and now you need a PhD for the other', \" It's a process of academic inflation\", ' And it indicates the whole structure of education is shifting beneath our feet', ' We need to radically rethink our view of intelligence', 'We know three things about intelligence', \" One, it's diverse\", ' We think about the world in all the ways that we experience it', ' We think visually, we think in sound, we think kinesthetically', ' We think in abstract terms, we think in movement', ' Secondly, intelligence is dynamic', ' If you look at the interactions of a human brain, as we heard yesterday from a number of presentations, intelligence is wonderfully interactive', \" The brain isn't divided into compartments\", ' In fact, creativity â€” which I define as the process of having original ideas that have value â€” more often than not comes about through the interaction of different disciplinary ways of seeing things', \"By the way, there's a shaft of nerves that joins the two halves of the brain called the corpus callosum\", \" It's thicker in women\", ' Following off from Helen yesterday, this is probably why women are better at multi-tasking', \" Because you are, aren't you? There's a raft of research, but I know it from my personal life\", ' If my wife is cooking a meal at home â€” which is not often, thankfully', \"(Laughter)No, she's good at some things, but if she's cooking, she's dealing with people on the phone, she's talking to the kids, she's painting the ceiling, she's doing open-heart surgery over here\", \" If I'm cooking, the door is shut, the kids are out, the phone's on the hook, if she comes in I get annoyed\", ' I say, \"Terry, please, I\\'m trying to fry an egg in here', '\"(Laughter)\"Give me a break', '\"(Laughter)Actually, do you know that old philosophical thing, if a tree falls in a forest and nobody hears it, did it happen? Remember that old chestnut? I saw a great t-shirt recently, which said, \"If a man speaks his mind in a forest, and no woman hears him, is he still wrong?\"(Laughter)And the third thing about intelligence is, it\\'s distinct', ' I\\'m doing a new book at the moment called \"Epiphany,\" which is based on a series of interviews with people about how they discovered their talent', \" I'm fascinated by how people got to be there\", \" It's really prompted by a conversation I had with a wonderful woman who maybe most people have never heard of, Gillian Lynne\", ' Have you heard of her? Some have', \" She's a choreographer, and everybody knows her work\", ' She did \"Cats\" and \"Phantom of the Opera', '\" She\\'s wonderful', ' I used to be on the board of The Royal Ballet, as you can see', ' Anyway, Gillian and I had lunch one day and I said, \"How did you get to be a dancer?\" It was interesting', ' When she was at school, she was really hopeless', ' And the school, in the \\'30s, wrote to her parents and said, \"We think Gillian has a learning disorder', '\" She couldn\\'t concentrate; she was fidgeting', \" I think now they'd say she had ADHD\", \" Wouldn't you? But this was the 1930s, and ADHD hadn't been invented at this point\", \" It wasn't an available condition\", \"(Laughter)People weren't aware they could have that\", '(Laughter)Anyway, she went to see this specialist', ' So, this oak-paneled room, and she was there with her mother, and she was led and sat on this chair at the end, and she sat on her hands for 20 minutes while this man talked to her mother about the problems Gillian was having at school', ' Because she was disturbing people; her homework was always late; and so on, little kid of eight', ' In the end, the doctor went and sat next to Gillian, and said, \"I\\'ve listened to all these things your mother\\'s told me, I need to speak to her privately', ' Wait here', ' We\\'ll be back; we won\\'t be very long,\" and they went and left her', 'But as they went out of the room, he turned on the radio that was sitting on his desk', ' And when they got out, he said to her mother, \"Just stand and watch her', '\" And the minute they left the room, she was on her feet, moving to the music', ' And they watched for a few minutes and he turned to her mother and said, \"Mrs', \" Lynne, Gillian isn't sick; she's a dancer\", ' Take her to a dance school', '\"I said, \"What happened?\" She said, \"She did', \" I can't tell you how wonderful it was\", ' We walked in this room and it was full of people like me', \" People who couldn't sit still\", ' People who had to move to think', '\" Who had to move to think', ' They did ballet, they did tap, jazz; they did modern; they did contemporary', ' She was eventually auditioned for the Royal Ballet School; she became a soloist; she had a wonderful career at the Royal Ballet', ' She eventually graduated from the Royal Ballet School, founded the Gillian Lynne Dance Company, met Andrew Lloyd Webber', \" She's been responsible for some of the most successful musical theater productions in history, she's given pleasure to millions, and she's a multi-millionaire\", ' Somebody else might have put her on medication and told her to calm down', '(Applause)What I think it comes to is this: Al Gore spoke the other night about ecology and the revolution that was triggered by Rachel Carson', ' I believe our only hope for the future is to adopt a new conception of human ecology, one in which we start to reconstitute our conception of the richness of human capacity', ' Our education system has mined our minds in the way that we strip-mine the earth: for a particular commodity', \" And for the future, it won't serve us\", \" We have to rethink the fundamental principles on which we're educating our children\", 'There was a wonderful quote by Jonas Salk, who said, \"If all the insects were to disappear from the Earth, within 50 years all life on Earth would end', ' If all human beings disappeared from the Earth, within 50 years all forms of life would flourish', '\" And he\\'s right', 'What TED celebrates is the gift of the human imagination', \" We have to be careful now that we use this gift wisely and that we avert some of the scenarios that we've talked about\", \" And the only way we'll do it is by seeing our creative capacities for the richness they are and seeing our children for the hope that they are\", ' And our task is to educate their whole being, so they can face this future', ' By the way â€” we may not see this future, but they will', ' And our job is to help them make something of it', 'Thank you very much', '(Applause)\\n']]\n"
     ]
    }
   ],
   "source": [
    "with open('RawData.txt', encoding='utf8') as f:\n",
    "    text = f.read()\n",
    "transcripts = [text.split(\".\")]\n",
    "print(transcripts)"
   ]
  },
  {
   "cell_type": "code",
   "execution_count": 14,
   "id": "fb8f28b8",
   "metadata": {},
   "outputs": [
    {
     "name": "stderr",
     "output_type": "stream",
     "text": [
      "A subdirectory or file transcripts already exists.\n"
     ]
    },
    {
     "ename": "NameError",
     "evalue": "name 'pickle' is not defined",
     "output_type": "error",
     "traceback": [
      "\u001b[1;31m---------------------------------------------------------------------------\u001b[0m",
      "\u001b[1;31mNameError\u001b[0m                                 Traceback (most recent call last)",
      "\u001b[1;32m~\\AppData\\Local\\Temp/ipykernel_18964/3437589908.py\u001b[0m in \u001b[0;36m<module>\u001b[1;34m\u001b[0m\n\u001b[0;32m      3\u001b[0m \u001b[1;32mfor\u001b[0m \u001b[0mi\u001b[0m \u001b[1;32min\u001b[0m \u001b[0mrange\u001b[0m\u001b[1;33m(\u001b[0m\u001b[0mlen\u001b[0m\u001b[1;33m(\u001b[0m\u001b[0mtranscripts\u001b[0m\u001b[1;33m)\u001b[0m\u001b[1;33m)\u001b[0m\u001b[1;33m:\u001b[0m\u001b[1;33m\u001b[0m\u001b[1;33m\u001b[0m\u001b[0m\n\u001b[0;32m      4\u001b[0m     \u001b[1;32mwith\u001b[0m \u001b[0mopen\u001b[0m\u001b[1;33m(\u001b[0m\u001b[1;34m\"Transcripts.txt\"\u001b[0m\u001b[1;33m,\u001b[0m \u001b[1;34m\"wb\"\u001b[0m\u001b[1;33m)\u001b[0m \u001b[1;32mas\u001b[0m \u001b[0mfile\u001b[0m\u001b[1;33m:\u001b[0m\u001b[1;33m\u001b[0m\u001b[1;33m\u001b[0m\u001b[0m\n\u001b[1;32m----> 5\u001b[1;33m         \u001b[0mpickle\u001b[0m\u001b[1;33m.\u001b[0m\u001b[0mdump\u001b[0m\u001b[1;33m(\u001b[0m\u001b[0mtranscripts\u001b[0m\u001b[1;33m[\u001b[0m\u001b[0mi\u001b[0m\u001b[1;33m]\u001b[0m\u001b[1;33m,\u001b[0m \u001b[0mfile\u001b[0m\u001b[1;33m)\u001b[0m\u001b[1;33m\u001b[0m\u001b[1;33m\u001b[0m\u001b[0m\n\u001b[0m\u001b[0;32m      6\u001b[0m         \u001b[0mparagraph\u001b[0m \u001b[1;33m=\u001b[0m \u001b[0mtranscripts\u001b[0m\u001b[1;33m[\u001b[0m\u001b[0mi\u001b[0m\u001b[1;33m]\u001b[0m\u001b[1;33m\u001b[0m\u001b[1;33m\u001b[0m\u001b[0m\n\u001b[0;32m      7\u001b[0m \u001b[0mstr1\u001b[0m \u001b[1;33m=\u001b[0m \u001b[1;34m\" \"\u001b[0m\u001b[1;33m\u001b[0m\u001b[1;33m\u001b[0m\u001b[0m\n",
      "\u001b[1;31mNameError\u001b[0m: name 'pickle' is not defined"
     ]
    }
   ],
   "source": [
    "!mkdir transcripts\n",
    "\n",
    "for i in range(len(transcripts)):\n",
    "    with open(\"Transcripts.txt\", \"wb\") as file:\n",
    "        pickle.dump(transcripts[i], file)\n",
    "        paragraph = transcripts[i]\n",
    "str1 = \" \"\n",
    "str1 = str1.join(paragraph)"
   ]
  },
  {
   "cell_type": "code",
   "execution_count": 5,
   "id": "2d9d98d8",
   "metadata": {},
   "outputs": [
    {
     "ename": "NameError",
     "evalue": "name 'str1' is not defined",
     "output_type": "error",
     "traceback": [
      "\u001b[1;31m---------------------------------------------------------------------------\u001b[0m",
      "\u001b[1;31mNameError\u001b[0m                                 Traceback (most recent call last)",
      "\u001b[1;32m~\\AppData\\Local\\Temp/ipykernel_18964/3749661024.py\u001b[0m in \u001b[0;36m<module>\u001b[1;34m\u001b[0m\n\u001b[0;32m      4\u001b[0m \u001b[1;32mfrom\u001b[0m \u001b[0mnltk\u001b[0m\u001b[1;33m.\u001b[0m\u001b[0mcorpus\u001b[0m \u001b[1;32mimport\u001b[0m \u001b[0mstopwords\u001b[0m\u001b[1;33m\u001b[0m\u001b[1;33m\u001b[0m\u001b[0m\n\u001b[0;32m      5\u001b[0m \u001b[1;33m\u001b[0m\u001b[0m\n\u001b[1;32m----> 6\u001b[1;33m \u001b[0msentences\u001b[0m \u001b[1;33m=\u001b[0m \u001b[0mnltk\u001b[0m\u001b[1;33m.\u001b[0m\u001b[0msent_tokenize\u001b[0m\u001b[1;33m(\u001b[0m\u001b[0mstr1\u001b[0m\u001b[1;33m)\u001b[0m\u001b[1;33m\u001b[0m\u001b[1;33m\u001b[0m\u001b[0m\n\u001b[0m\u001b[0;32m      7\u001b[0m \u001b[0mlemmatizer\u001b[0m \u001b[1;33m=\u001b[0m \u001b[0mWordNetLemmatizer\u001b[0m\u001b[1;33m(\u001b[0m\u001b[1;33m)\u001b[0m\u001b[1;33m\u001b[0m\u001b[1;33m\u001b[0m\u001b[0m\n\u001b[0;32m      8\u001b[0m \u001b[0mlemm_sentence\u001b[0m \u001b[1;33m=\u001b[0m \u001b[1;33m[\u001b[0m\u001b[1;33m]\u001b[0m\u001b[1;33m\u001b[0m\u001b[1;33m\u001b[0m\u001b[0m\n",
      "\u001b[1;31mNameError\u001b[0m: name 'str1' is not defined"
     ]
    }
   ],
   "source": [
    "# Lemmatization\n",
    "import nltk\n",
    "from nltk.stem import WordNetLemmatizer\n",
    "from nltk.corpus import stopwords\n",
    "\n",
    "sentences = nltk.sent_tokenize(str1)\n",
    "lemmatizer = WordNetLemmatizer()\n",
    "lemm_sentence = []\n",
    "# Lemmatization\n",
    "for i in range(len(sentences)):\n",
    "    words = nltk.word_tokenize(sentences[i])\n",
    "    words = [lemmatizer.lemmatize(word) for word in words if word not in set(stopwords.words('english'))]\n",
    "    sentences[i] = ' '.join(words)\n",
    "#     print(words)\n",
    "print(sentences)"
   ]
  },
  {
   "cell_type": "code",
   "execution_count": null,
   "id": "5e77fb63",
   "metadata": {},
   "outputs": [],
   "source": [
    "data = {}\n",
    "for i in range(len(sentences)):\n",
    "    data[i] = sentences[i]\n",
    "data"
   ]
  },
  {
   "cell_type": "code",
   "execution_count": null,
   "id": "f516225a",
   "metadata": {},
   "outputs": [],
   "source": [
    "# We are going to change this to key: sentence_id, value: string format\n",
    "def combine_text(list_of_text):\n",
    "    '''Takes a list of text and combines them into one large chunk of text.'''\n",
    "    combined_text = ''.join(list_of_text)\n",
    "    return combined_text"
   ]
  },
  {
   "cell_type": "code",
   "execution_count": null,
   "id": "9f55bd36",
   "metadata": {},
   "outputs": [],
   "source": [
    "# Combine it!\n",
    "data_combined = {key: [combine_text(value)] for (key, value) in data.items()}\n",
    "data_combined"
   ]
  },
  {
   "cell_type": "code",
   "execution_count": null,
   "id": "69e8e902",
   "metadata": {},
   "outputs": [],
   "source": [
    "# We can either keep it in dictionary format or put it into a pandas dataframe\n",
    "import pandas as pd\n",
    "pd.set_option('max_colwidth',150)\n",
    "\n",
    "data_df = pd.DataFrame.from_dict(data_combined).transpose()\n",
    "data_df.columns = ['transcript']\n",
    "data_df = data_df.sort_index()\n",
    "data_df"
   ]
  },
  {
   "cell_type": "code",
   "execution_count": null,
   "id": "b456fd87",
   "metadata": {},
   "outputs": [],
   "source": [
    "# Let's take a look at the transcript for Ali Wong\n",
    "data_df.transcript.loc[0]"
   ]
  },
  {
   "cell_type": "code",
   "execution_count": null,
   "id": "1ad7f98b",
   "metadata": {},
   "outputs": [],
   "source": [
    "import re\n",
    "import string\n",
    "\n",
    "def clean_text_round1(text):\n",
    "    '''Make text lowercase, remove text in square brackets, remove punctuation and remove words containing numbers.'''\n",
    "    text = text.lower()\n",
    "    text = re.sub('\\[.*?\\]', '', text)\n",
    "    text = re.sub('[%s]' % re.escape(string.punctuation), '', text)\n",
    "    text = re.sub('\\w*\\d\\w*', '', text)\n",
    "    return text\n",
    "\n",
    "round1 = lambda x: clean_text_round1(x)"
   ]
  },
  {
   "cell_type": "code",
   "execution_count": null,
   "id": "fe6b03e0",
   "metadata": {},
   "outputs": [],
   "source": [
    "# Let's take a look at the updated text\n",
    "data_clean = pd.DataFrame(data_df.transcript.apply(round1))\n",
    "data_clean"
   ]
  },
  {
   "cell_type": "code",
   "execution_count": 6,
   "id": "4562f617",
   "metadata": {},
   "outputs": [],
   "source": [
    "# Apply a second round of cleaning\n",
    "def clean_text_round2(text):\n",
    "    '''Get rid of some additional punctuation and non-sensical text that was missed the first time around.'''\n",
    "    text = re.sub('[‘’“”…]', '', text)\n",
    "    text = re.sub('\\n', '', text)\n",
    "    return text\n",
    "\n",
    "round2 = lambda x: clean_text_round2(x)"
   ]
  },
  {
   "cell_type": "code",
   "execution_count": 7,
   "id": "a8f05019",
   "metadata": {},
   "outputs": [
    {
     "ename": "NameError",
     "evalue": "name 'pd' is not defined",
     "output_type": "error",
     "traceback": [
      "\u001b[1;31m---------------------------------------------------------------------------\u001b[0m",
      "\u001b[1;31mNameError\u001b[0m                                 Traceback (most recent call last)",
      "\u001b[1;32m~\\AppData\\Local\\Temp/ipykernel_18964/2632542411.py\u001b[0m in \u001b[0;36m<module>\u001b[1;34m\u001b[0m\n\u001b[0;32m      1\u001b[0m \u001b[1;31m# Let's take a look at the updated text\u001b[0m\u001b[1;33m\u001b[0m\u001b[1;33m\u001b[0m\u001b[0m\n\u001b[1;32m----> 2\u001b[1;33m \u001b[0mdata_clean\u001b[0m \u001b[1;33m=\u001b[0m \u001b[0mpd\u001b[0m\u001b[1;33m.\u001b[0m\u001b[0mDataFrame\u001b[0m\u001b[1;33m(\u001b[0m\u001b[0mdata_clean\u001b[0m\u001b[1;33m.\u001b[0m\u001b[0mtranscript\u001b[0m\u001b[1;33m.\u001b[0m\u001b[0mapply\u001b[0m\u001b[1;33m(\u001b[0m\u001b[0mround2\u001b[0m\u001b[1;33m)\u001b[0m\u001b[1;33m)\u001b[0m\u001b[1;33m\u001b[0m\u001b[1;33m\u001b[0m\u001b[0m\n\u001b[0m\u001b[0;32m      3\u001b[0m \u001b[0mdata_clean\u001b[0m\u001b[1;33m\u001b[0m\u001b[1;33m\u001b[0m\u001b[0m\n",
      "\u001b[1;31mNameError\u001b[0m: name 'pd' is not defined"
     ]
    }
   ],
   "source": [
    "# Let's take a look at the updated text\n",
    "data_clean = pd.DataFrame(data_clean.transcript.apply(round2))\n",
    "data_clean"
   ]
  },
  {
   "cell_type": "code",
   "execution_count": 8,
   "id": "0de954eb",
   "metadata": {},
   "outputs": [
    {
     "ename": "NameError",
     "evalue": "name 'data_df' is not defined",
     "output_type": "error",
     "traceback": [
      "\u001b[1;31m---------------------------------------------------------------------------\u001b[0m",
      "\u001b[1;31mNameError\u001b[0m                                 Traceback (most recent call last)",
      "\u001b[1;32m~\\AppData\\Local\\Temp/ipykernel_18964/115995631.py\u001b[0m in \u001b[0;36m<module>\u001b[1;34m\u001b[0m\n\u001b[0;32m      1\u001b[0m \u001b[1;31m# Let's take a look at our dataframe\u001b[0m\u001b[1;33m\u001b[0m\u001b[1;33m\u001b[0m\u001b[0m\n\u001b[1;32m----> 2\u001b[1;33m \u001b[0mdata_df\u001b[0m\u001b[1;33m\u001b[0m\u001b[1;33m\u001b[0m\u001b[0m\n\u001b[0m",
      "\u001b[1;31mNameError\u001b[0m: name 'data_df' is not defined"
     ]
    }
   ],
   "source": [
    "# Let's take a look at our dataframe\n",
    "data_df"
   ]
  },
  {
   "cell_type": "code",
   "execution_count": 9,
   "id": "3ab7019c",
   "metadata": {},
   "outputs": [
    {
     "ename": "NameError",
     "evalue": "name 'data_df' is not defined",
     "output_type": "error",
     "traceback": [
      "\u001b[1;31m---------------------------------------------------------------------------\u001b[0m",
      "\u001b[1;31mNameError\u001b[0m                                 Traceback (most recent call last)",
      "\u001b[1;32m~\\AppData\\Local\\Temp/ipykernel_18964/2697650036.py\u001b[0m in \u001b[0;36m<module>\u001b[1;34m\u001b[0m\n\u001b[0;32m      1\u001b[0m \u001b[1;31m# pickle it for later use\u001b[0m\u001b[1;33m\u001b[0m\u001b[1;33m\u001b[0m\u001b[0m\n\u001b[1;32m----> 2\u001b[1;33m \u001b[0mdata_df\u001b[0m\u001b[1;33m.\u001b[0m\u001b[0mto_pickle\u001b[0m\u001b[1;33m(\u001b[0m\u001b[1;34m\"corpus.pkl\"\u001b[0m\u001b[1;33m)\u001b[0m\u001b[1;33m\u001b[0m\u001b[1;33m\u001b[0m\u001b[0m\n\u001b[0m",
      "\u001b[1;31mNameError\u001b[0m: name 'data_df' is not defined"
     ]
    }
   ],
   "source": [
    "# pickle it for later use\n",
    "data_df.to_pickle(\"corpus.pkl\")"
   ]
  },
  {
   "cell_type": "code",
   "execution_count": 10,
   "id": "5ed8c8f9",
   "metadata": {},
   "outputs": [
    {
     "ename": "NameError",
     "evalue": "name 'data_clean' is not defined",
     "output_type": "error",
     "traceback": [
      "\u001b[1;31m---------------------------------------------------------------------------\u001b[0m",
      "\u001b[1;31mNameError\u001b[0m                                 Traceback (most recent call last)",
      "\u001b[1;32m~\\AppData\\Local\\Temp/ipykernel_18964/2677254193.py\u001b[0m in \u001b[0;36m<module>\u001b[1;34m\u001b[0m\n\u001b[0;32m      3\u001b[0m \u001b[1;33m\u001b[0m\u001b[0m\n\u001b[0;32m      4\u001b[0m \u001b[0mcv\u001b[0m \u001b[1;33m=\u001b[0m \u001b[0mCountVectorizer\u001b[0m\u001b[1;33m(\u001b[0m\u001b[0mstop_words\u001b[0m\u001b[1;33m=\u001b[0m\u001b[1;34m'english'\u001b[0m\u001b[1;33m)\u001b[0m\u001b[1;33m\u001b[0m\u001b[1;33m\u001b[0m\u001b[0m\n\u001b[1;32m----> 5\u001b[1;33m \u001b[0mdata_cv\u001b[0m \u001b[1;33m=\u001b[0m \u001b[0mcv\u001b[0m\u001b[1;33m.\u001b[0m\u001b[0mfit_transform\u001b[0m\u001b[1;33m(\u001b[0m\u001b[0mdata_clean\u001b[0m\u001b[1;33m.\u001b[0m\u001b[0mtranscript\u001b[0m\u001b[1;33m)\u001b[0m\u001b[1;33m\u001b[0m\u001b[1;33m\u001b[0m\u001b[0m\n\u001b[0m\u001b[0;32m      6\u001b[0m \u001b[0mdata_dtm\u001b[0m \u001b[1;33m=\u001b[0m \u001b[0mpd\u001b[0m\u001b[1;33m.\u001b[0m\u001b[0mDataFrame\u001b[0m\u001b[1;33m(\u001b[0m\u001b[0mdata_cv\u001b[0m\u001b[1;33m.\u001b[0m\u001b[0mtoarray\u001b[0m\u001b[1;33m(\u001b[0m\u001b[1;33m)\u001b[0m\u001b[1;33m,\u001b[0m \u001b[0mcolumns\u001b[0m\u001b[1;33m=\u001b[0m\u001b[0mcv\u001b[0m\u001b[1;33m.\u001b[0m\u001b[0mget_feature_names\u001b[0m\u001b[1;33m(\u001b[0m\u001b[1;33m)\u001b[0m\u001b[1;33m)\u001b[0m\u001b[1;33m\u001b[0m\u001b[1;33m\u001b[0m\u001b[0m\n\u001b[0;32m      7\u001b[0m \u001b[0mdata_dtm\u001b[0m\u001b[1;33m.\u001b[0m\u001b[0mindex\u001b[0m \u001b[1;33m=\u001b[0m \u001b[0mdata_clean\u001b[0m\u001b[1;33m.\u001b[0m\u001b[0mindex\u001b[0m\u001b[1;33m\u001b[0m\u001b[1;33m\u001b[0m\u001b[0m\n",
      "\u001b[1;31mNameError\u001b[0m: name 'data_clean' is not defined"
     ]
    }
   ],
   "source": [
    "# We are going to create a document-term matrix using CountVectorizer, and exclude common English stop words\n",
    "from sklearn.feature_extraction.text import CountVectorizer\n",
    "\n",
    "cv = CountVectorizer(stop_words='english')\n",
    "data_cv = cv.fit_transform(data_clean.transcript)\n",
    "data_dtm = pd.DataFrame(data_cv.toarray(), columns=cv.get_feature_names())\n",
    "data_dtm.index = data_clean.index\n",
    "data_dtm"
   ]
  },
  {
   "cell_type": "code",
   "execution_count": 11,
   "id": "06a38c66",
   "metadata": {},
   "outputs": [
    {
     "ename": "NameError",
     "evalue": "name 'data_dtm' is not defined",
     "output_type": "error",
     "traceback": [
      "\u001b[1;31m---------------------------------------------------------------------------\u001b[0m",
      "\u001b[1;31mNameError\u001b[0m                                 Traceback (most recent call last)",
      "\u001b[1;32m~\\AppData\\Local\\Temp/ipykernel_18964/805212241.py\u001b[0m in \u001b[0;36m<module>\u001b[1;34m\u001b[0m\n\u001b[0;32m      1\u001b[0m \u001b[1;31m# pickle it for later use\u001b[0m\u001b[1;33m\u001b[0m\u001b[1;33m\u001b[0m\u001b[0m\n\u001b[1;32m----> 2\u001b[1;33m \u001b[0mdata_dtm\u001b[0m\u001b[1;33m.\u001b[0m\u001b[0mto_pickle\u001b[0m\u001b[1;33m(\u001b[0m\u001b[1;34m\"dtm.pkl\"\u001b[0m\u001b[1;33m)\u001b[0m\u001b[1;33m\u001b[0m\u001b[1;33m\u001b[0m\u001b[0m\n\u001b[0m",
      "\u001b[1;31mNameError\u001b[0m: name 'data_dtm' is not defined"
     ]
    }
   ],
   "source": [
    "# pickle it for later use\n",
    "data_dtm.to_pickle(\"dtm.pkl\")"
   ]
  },
  {
   "cell_type": "code",
   "execution_count": 12,
   "id": "c2b9b507",
   "metadata": {},
   "outputs": [
    {
     "ename": "NameError",
     "evalue": "name 'data_clean' is not defined",
     "output_type": "error",
     "traceback": [
      "\u001b[1;31m---------------------------------------------------------------------------\u001b[0m",
      "\u001b[1;31mNameError\u001b[0m                                 Traceback (most recent call last)",
      "\u001b[1;32m~\\AppData\\Local\\Temp/ipykernel_18964/4103890467.py\u001b[0m in \u001b[0;36m<module>\u001b[1;34m\u001b[0m\n\u001b[0;32m      1\u001b[0m \u001b[1;31m# pickle the cleaned data (before putting it in document-term matrix format) and the CountVectorizer object\u001b[0m\u001b[1;33m\u001b[0m\u001b[1;33m\u001b[0m\u001b[0m\n\u001b[1;32m----> 2\u001b[1;33m \u001b[0mdata_clean\u001b[0m\u001b[1;33m.\u001b[0m\u001b[0mto_pickle\u001b[0m\u001b[1;33m(\u001b[0m\u001b[1;34m'data_clean.pkl'\u001b[0m\u001b[1;33m)\u001b[0m\u001b[1;33m\u001b[0m\u001b[1;33m\u001b[0m\u001b[0m\n\u001b[0m\u001b[0;32m      3\u001b[0m \u001b[0mpickle\u001b[0m\u001b[1;33m.\u001b[0m\u001b[0mdump\u001b[0m\u001b[1;33m(\u001b[0m\u001b[0mcv\u001b[0m\u001b[1;33m,\u001b[0m \u001b[0mopen\u001b[0m\u001b[1;33m(\u001b[0m\u001b[1;34m\"count_vectorizer.pkl\"\u001b[0m\u001b[1;33m,\u001b[0m \u001b[1;34m\"wb\"\u001b[0m\u001b[1;33m)\u001b[0m\u001b[1;33m)\u001b[0m\u001b[1;33m\u001b[0m\u001b[1;33m\u001b[0m\u001b[0m\n",
      "\u001b[1;31mNameError\u001b[0m: name 'data_clean' is not defined"
     ]
    }
   ],
   "source": [
    "# pickle the cleaned data (before putting it in document-term matrix format) and the CountVectorizer object\n",
    "data_clean.to_pickle('data_clean.pkl')\n",
    "pickle.dump(cv, open(\"count_vectorizer.pkl\", \"wb\"))"
   ]
  },
  {
   "cell_type": "code",
   "execution_count": null,
   "id": "69ec9c9e",
   "metadata": {},
   "outputs": [],
   "source": []
  }
 ],
 "metadata": {
  "kernelspec": {
   "display_name": "Python 3 (ipykernel)",
   "language": "python",
   "name": "python3"
  },
  "language_info": {
   "codemirror_mode": {
    "name": "ipython",
    "version": 3
   },
   "file_extension": ".py",
   "mimetype": "text/x-python",
   "name": "python",
   "nbconvert_exporter": "python",
   "pygments_lexer": "ipython3",
   "version": "3.9.7"
  }
 },
 "nbformat": 4,
 "nbformat_minor": 5
}
